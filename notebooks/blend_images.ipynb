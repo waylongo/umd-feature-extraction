{
 "cells": [
  {
   "cell_type": "code",
   "execution_count": 1,
   "metadata": {
    "ExecuteTime": {
     "end_time": "2020-09-12T18:52:29.484705Z",
     "start_time": "2020-09-12T18:52:28.696723Z"
    }
   },
   "outputs": [],
   "source": [
    "import os\n",
    "import cv2\n",
    "import random\n",
    "import numpy as np\n",
    "import pandas as pd\n",
    "import matplotlib.pyplot as plt\n",
    "from tqdm import tqdm\n",
    "\n",
    "import torch\n",
    "from torch.utils.data import Dataset, DataLoader, Subset\n",
    "import torchvision.models as models\n",
    "import albumentations as A\n",
    "from albumentations.pytorch import ToTensor\n",
    "\n",
    "import torch.nn.functional as F\n",
    "import torch.nn as nn"
   ]
  },
  {
   "cell_type": "code",
   "execution_count": 2,
   "metadata": {
    "ExecuteTime": {
     "end_time": "2020-09-12T18:52:30.408554Z",
     "start_time": "2020-09-12T18:52:29.485884Z"
    }
   },
   "outputs": [],
   "source": [
    "# Mixup\n",
    "# https://www.kaggle.com/c/understanding_cloud_organization/discussion/118065\n",
    "center_crop_size = 512\n",
    "for i in range(1, 41):\n",
    "    img1 = cv2.imread(f\"../input/RT3_{i}.png\", 0)\n",
    "    img2 = cv2.imread(f\"../input/RT8_{i}.png\", 0)\n",
    "    alpha = np.array([np.arange(img1.shape[1]) / img1.shape[1]] * img1.shape[0])\n",
    "    blend = img1 * alpha + img2 * (1 - alpha)\n",
    "    blend = A.CenterCrop(center_crop_size, center_crop_size)(image=blend)[\"image\"]\n",
    "#     cv2.imwrite(f\"../input/mixup_3_8_{i}.png\", blend)"
   ]
  },
  {
   "cell_type": "code",
   "execution_count": 3,
   "metadata": {
    "ExecuteTime": {
     "end_time": "2020-09-12T18:52:31.304836Z",
     "start_time": "2020-09-12T18:52:30.409597Z"
    }
   },
   "outputs": [],
   "source": [
    "# CutMix\n",
    "# https://www.kaggle.com/c/understanding_cloud_organization/discussion/118065\n",
    "center_crop_size = 512\n",
    "for i in range(1, 41):\n",
    "    img1 = cv2.imread(f\"../input/RT3_{i}.png\", 0)\n",
    "    img2 = cv2.imread(f\"../input/RT8_{i}.png\", 0)\n",
    "    cut_pct = 0.5\n",
    "    alpha = np.zeros(img1.shape)\n",
    "    alpha[:, :int(alpha.shape[1] * cut_pct)] = 1\n",
    "    blend = img1 * alpha + img2 * (1 - alpha)\n",
    "    blend = A.CenterCrop(center_crop_size, center_crop_size)(image=blend)[\"image\"]\n",
    "#     cv2.imwrite(f\"../input/cutmix_3_8_{i}.png\", blend)"
   ]
  },
  {
   "cell_type": "code",
   "execution_count": 4,
   "metadata": {
    "ExecuteTime": {
     "end_time": "2020-09-12T18:52:31.329970Z",
     "start_time": "2020-09-12T18:52:31.305922Z"
    }
   },
   "outputs": [],
   "source": [
    "# Generate a sequence of transition images\n",
    "img1 = cv2.imread(f\"../input/RT3_1.png\", 0)\n",
    "img2 = cv2.imread(f\"../input/RT8_1.png\", 0)\n",
    "\n",
    "center_crop_size = 224\n",
    "img1 = A.CenterCrop(center_crop_size, center_crop_size)(image=img1)[\"image\"]\n",
    "img2 = A.CenterCrop(center_crop_size, center_crop_size)(image=img2)[\"image\"]\n",
    "\n",
    "for i in range(11):\n",
    "    cut_pct = round(i *0.1, 1)\n",
    "    alpha = np.zeros(img1.shape)\n",
    "    alpha[:, :int(alpha.shape[1] * cut_pct)] = 1\n",
    "    blend = img1 * alpha + img2 * (1 - alpha)\n",
    "#     cv2.imwrite(f\"../input/cutmix_seq_{i}.png\", blend)"
   ]
  },
  {
   "cell_type": "code",
   "execution_count": null,
   "metadata": {},
   "outputs": [],
   "source": []
  },
  {
   "cell_type": "code",
   "execution_count": null,
   "metadata": {},
   "outputs": [],
   "source": []
  },
  {
   "cell_type": "code",
   "execution_count": null,
   "metadata": {},
   "outputs": [],
   "source": []
  },
  {
   "cell_type": "code",
   "execution_count": null,
   "metadata": {},
   "outputs": [],
   "source": []
  }
 ],
 "metadata": {
  "kernelspec": {
   "display_name": "Python 3",
   "language": "python",
   "name": "python3"
  },
  "language_info": {
   "codemirror_mode": {
    "name": "ipython",
    "version": 3
   },
   "file_extension": ".py",
   "mimetype": "text/x-python",
   "name": "python",
   "nbconvert_exporter": "python",
   "pygments_lexer": "ipython3",
   "version": "3.7.5"
  },
  "toc": {
   "base_numbering": 1,
   "nav_menu": {},
   "number_sections": true,
   "sideBar": true,
   "skip_h1_title": false,
   "title_cell": "Table of Contents",
   "title_sidebar": "Contents",
   "toc_cell": false,
   "toc_position": {},
   "toc_section_display": true,
   "toc_window_display": false
  }
 },
 "nbformat": 4,
 "nbformat_minor": 2
}
