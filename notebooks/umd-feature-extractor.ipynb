{
 "cells": [
  {
   "cell_type": "code",
   "execution_count": 1,
   "metadata": {
    "ExecuteTime": {
     "end_time": "2020-09-12T19:25:40.108122Z",
     "start_time": "2020-09-12T19:25:39.320608Z"
    }
   },
   "outputs": [],
   "source": [
    "import os\n",
    "import cv2\n",
    "import random\n",
    "import numpy as np\n",
    "import pandas as pd\n",
    "import matplotlib.pyplot as plt\n",
    "from tqdm import tqdm\n",
    "\n",
    "import torch\n",
    "from torch.utils.data import Dataset, DataLoader, Subset\n",
    "import torchvision.models as models\n",
    "import albumentations as A\n",
    "from albumentations.pytorch import ToTensor\n",
    "\n",
    "import torch.nn.functional as F\n",
    "import torch.nn as nn\n",
    "from efficientnet_pytorch import EfficientNet"
   ]
  },
  {
   "cell_type": "code",
   "execution_count": 2,
   "metadata": {
    "ExecuteTime": {
     "end_time": "2020-09-12T19:25:40.112574Z",
     "start_time": "2020-09-12T19:25:40.109262Z"
    }
   },
   "outputs": [],
   "source": [
    "# reproduce\n",
    "def seed_everything(seed):\n",
    "    random.seed(seed)\n",
    "    os.environ['PYTHONHASHSEED'] = str(seed)\n",
    "    np.random.seed(seed)\n",
    "    torch.manual_seed(seed)\n",
    "    torch.cuda.manual_seed(seed)\n",
    "    torch.backends.cudnn.deterministic = True\n",
    "seed_everything(42)"
   ]
  },
  {
   "cell_type": "code",
   "execution_count": 3,
   "metadata": {
    "ExecuteTime": {
     "end_time": "2020-09-12T19:25:40.130282Z",
     "start_time": "2020-09-12T19:25:40.113457Z"
    }
   },
   "outputs": [
    {
     "name": "stdout",
     "output_type": "stream",
     "text": [
      "df shape is (131, 2)\n"
     ]
    },
    {
     "data": {
      "text/html": [
       "<div>\n",
       "<style scoped>\n",
       "    .dataframe tbody tr th:only-of-type {\n",
       "        vertical-align: middle;\n",
       "    }\n",
       "\n",
       "    .dataframe tbody tr th {\n",
       "        vertical-align: top;\n",
       "    }\n",
       "\n",
       "    .dataframe thead th {\n",
       "        text-align: right;\n",
       "    }\n",
       "</style>\n",
       "<table border=\"1\" class=\"dataframe\">\n",
       "  <thead>\n",
       "    <tr style=\"text-align: right;\">\n",
       "      <th></th>\n",
       "      <th>img_name</th>\n",
       "      <th>target</th>\n",
       "    </tr>\n",
       "  </thead>\n",
       "  <tbody>\n",
       "    <tr>\n",
       "      <th>0</th>\n",
       "      <td>RT3_1</td>\n",
       "      <td>1</td>\n",
       "    </tr>\n",
       "    <tr>\n",
       "      <th>1</th>\n",
       "      <td>RT3_2</td>\n",
       "      <td>1</td>\n",
       "    </tr>\n",
       "    <tr>\n",
       "      <th>2</th>\n",
       "      <td>RT3_3</td>\n",
       "      <td>1</td>\n",
       "    </tr>\n",
       "    <tr>\n",
       "      <th>3</th>\n",
       "      <td>RT3_4</td>\n",
       "      <td>1</td>\n",
       "    </tr>\n",
       "    <tr>\n",
       "      <th>4</th>\n",
       "      <td>RT3_5</td>\n",
       "      <td>1</td>\n",
       "    </tr>\n",
       "  </tbody>\n",
       "</table>\n",
       "</div>"
      ],
      "text/plain": [
       "  img_name  target\n",
       "0    RT3_1       1\n",
       "1    RT3_2       1\n",
       "2    RT3_3       1\n",
       "3    RT3_4       1\n",
       "4    RT3_5       1"
      ]
     },
     "execution_count": 3,
     "metadata": {},
     "output_type": "execute_result"
    }
   ],
   "source": [
    "# train.csv | train_mixup.csv | train_cutmix.csv | train_seq.csv\n",
    "df = pd.read_csv(\"../input/train_seq.csv\")\n",
    "print(f\"df shape is {df.shape}\")\n",
    "df.head()"
   ]
  },
  {
   "cell_type": "code",
   "execution_count": 4,
   "metadata": {
    "ExecuteTime": {
     "end_time": "2020-09-12T19:25:40.136784Z",
     "start_time": "2020-09-12T19:25:40.131207Z"
    }
   },
   "outputs": [],
   "source": [
    "IMAGE_SIZE = 224\n",
    "class UmdDataset(Dataset):\n",
    "    def __init__(self, df: pd.DataFrame, imfolder: str, transforms=None):\n",
    "        self.df = df\n",
    "        self.imfolder = imfolder\n",
    "        self.transforms = transforms\n",
    "\n",
    "    def __len__(self):\n",
    "        return len(self.df)\n",
    "\n",
    "    def __getitem__(self, index):\n",
    "        im_path = os.path.join(self.imfolder, self.df.iloc[index]['img_name'] + '.png')\n",
    "        x = cv2.imread(im_path, 0)\n",
    "        x = cv2.cvtColor(x, cv2.COLOR_GRAY2RGB)\n",
    "        \n",
    "        if self.transforms:\n",
    "            augmented = self.transforms(image=x)\n",
    "            x = augmented['image']\n",
    "            \n",
    "        y = self.df.loc[index]['target']\n",
    "        return x, y\n",
    "    \n",
    "df_transform = A.Compose([\n",
    "    A.RandomCrop(IMAGE_SIZE, IMAGE_SIZE, p=1),\n",
    "    A.Normalize(),\n",
    "    ToTensor(),\n",
    "])"
   ]
  },
  {
   "cell_type": "code",
   "execution_count": 5,
   "metadata": {
    "ExecuteTime": {
     "end_time": "2020-09-12T19:25:40.149687Z",
     "start_time": "2020-09-12T19:25:40.137683Z"
    }
   },
   "outputs": [],
   "source": [
    "training_data_path = \"../input/\"\n",
    "umd_dataset = UmdDataset(df=df, imfolder=training_data_path, transforms=df_transform)\n",
    "train_loader = DataLoader(dataset=umd_dataset, batch_size=1, num_workers=16, shuffle=True)"
   ]
  },
  {
   "cell_type": "code",
   "execution_count": 6,
   "metadata": {
    "ExecuteTime": {
     "end_time": "2020-09-12T19:25:40.159656Z",
     "start_time": "2020-09-12T19:25:40.151078Z"
    }
   },
   "outputs": [],
   "source": [
    "# # visualize images\n",
    "# for images, labels in train_loader:  \n",
    "#     img = images.squeeze(0).permute((1, 2,0))\n",
    "#     plt.imshow(img)\n",
    "#     plt.show()"
   ]
  },
  {
   "cell_type": "code",
   "execution_count": 7,
   "metadata": {
    "ExecuteTime": {
     "end_time": "2020-09-12T19:25:40.169637Z",
     "start_time": "2020-09-12T19:25:40.160940Z"
    }
   },
   "outputs": [],
   "source": [
    "# # alexnet\n",
    "# umd_features = []\n",
    "# umd_y = []\n",
    "\n",
    "# model = models.alexnet(pretrained=True)\n",
    "\n",
    "# for epoch in tqdm(range(10)):\n",
    "    \n",
    "#     for images, labels in train_loader:  \n",
    "\n",
    "# #         features = model.extract_features(images)\n",
    "# #         features = nn.AdaptiveAvgPool2d(1)(features).squeeze(0).squeeze(1).squeeze(1).cpu().detach().numpy()\n",
    "#         features = model.features(images)\n",
    "#         features = nn.AdaptiveAvgPool2d(1)(features).squeeze(0).cpu().detach().numpy()\n",
    "#         features = features.reshape([-1])\n",
    "#         umd_features.append(features)\n",
    "# #         umd_features.append(features.cpu().detach().numpy())\n",
    "#         umd_y.append(labels.detach().numpy())\n",
    "\n",
    "# umd_features = np.array(umd_features)\n",
    "# umd_y = np. array(umd_y)"
   ]
  },
  {
   "cell_type": "code",
   "execution_count": 8,
   "metadata": {
    "ExecuteTime": {
     "end_time": "2020-09-12T19:26:08.161129Z",
     "start_time": "2020-09-12T19:25:40.170600Z"
    }
   },
   "outputs": [
    {
     "name": "stderr",
     "output_type": "stream",
     "text": [
      "100%|██████████| 10/10 [00:27<00:00,  2.78s/it]\n"
     ]
    }
   ],
   "source": [
    "umd_features = []\n",
    "umd_y = []\n",
    "\n",
    "model = models.resnet18(pretrained=True)\n",
    "feature_extractor = torch.nn.Sequential(*list(model.children())[:-1])\n",
    "feature_extractor.eval()\n",
    "\n",
    "for epoch in tqdm(range(10)):\n",
    "    \n",
    "    for images, labels in train_loader:  \n",
    "\n",
    "#         features = model.extract_features(images)\n",
    "#         features = nn.AdaptiveAvgPool2d(1)(features).squeeze(0).squeeze(1).squeeze(1).cpu().detach().numpy()\n",
    "        features = feature_extractor(images)\n",
    "        features = nn.AdaptiveAvgPool2d(1)(features).squeeze(0).squeeze(1).squeeze(1).cpu().detach().numpy()\n",
    "#         features = features.reshape([-1])\n",
    "        umd_features.append(features)\n",
    "#         umd_features.append(features.cpu().detach().numpy())\n",
    "        umd_y.append(labels.detach().numpy())\n",
    "\n",
    "umd_features = np.array(umd_features)\n",
    "umd_y = np. array(umd_y)"
   ]
  },
  {
   "cell_type": "code",
   "execution_count": 9,
   "metadata": {
    "ExecuteTime": {
     "end_time": "2020-09-12T19:26:08.165188Z",
     "start_time": "2020-09-12T19:26:08.162588Z"
    }
   },
   "outputs": [
    {
     "name": "stdout",
     "output_type": "stream",
     "text": [
      "image feature shape is (1310, 512)\n",
      "image label shape is (1310, 1)\n"
     ]
    }
   ],
   "source": [
    "print(f\"image feature shape is {umd_features.shape}\")\n",
    "print(f\"image label shape is {umd_y.shape}\")"
   ]
  },
  {
   "cell_type": "code",
   "execution_count": 10,
   "metadata": {
    "ExecuteTime": {
     "end_time": "2020-09-12T19:26:08.189824Z",
     "start_time": "2020-09-12T19:26:08.166240Z"
    }
   },
   "outputs": [
    {
     "name": "stdout",
     "output_type": "stream",
     "text": [
      "(1310, 513)\n"
     ]
    },
    {
     "data": {
      "text/html": [
       "<div>\n",
       "<style scoped>\n",
       "    .dataframe tbody tr th:only-of-type {\n",
       "        vertical-align: middle;\n",
       "    }\n",
       "\n",
       "    .dataframe tbody tr th {\n",
       "        vertical-align: top;\n",
       "    }\n",
       "\n",
       "    .dataframe thead th {\n",
       "        text-align: right;\n",
       "    }\n",
       "</style>\n",
       "<table border=\"1\" class=\"dataframe\">\n",
       "  <thead>\n",
       "    <tr style=\"text-align: right;\">\n",
       "      <th></th>\n",
       "      <th>0</th>\n",
       "      <th>1</th>\n",
       "      <th>2</th>\n",
       "      <th>3</th>\n",
       "      <th>4</th>\n",
       "      <th>5</th>\n",
       "      <th>6</th>\n",
       "      <th>7</th>\n",
       "      <th>8</th>\n",
       "      <th>9</th>\n",
       "      <th>...</th>\n",
       "      <th>503</th>\n",
       "      <th>504</th>\n",
       "      <th>505</th>\n",
       "      <th>506</th>\n",
       "      <th>507</th>\n",
       "      <th>508</th>\n",
       "      <th>509</th>\n",
       "      <th>510</th>\n",
       "      <th>511</th>\n",
       "      <th>target</th>\n",
       "    </tr>\n",
       "  </thead>\n",
       "  <tbody>\n",
       "    <tr>\n",
       "      <th>0</th>\n",
       "      <td>0.116135</td>\n",
       "      <td>0.788059</td>\n",
       "      <td>2.428497</td>\n",
       "      <td>1.056603</td>\n",
       "      <td>0.820298</td>\n",
       "      <td>0.141416</td>\n",
       "      <td>0.585964</td>\n",
       "      <td>0.087065</td>\n",
       "      <td>2.002062</td>\n",
       "      <td>1.639428</td>\n",
       "      <td>...</td>\n",
       "      <td>0.113385</td>\n",
       "      <td>0.108759</td>\n",
       "      <td>1.317424</td>\n",
       "      <td>0.147004</td>\n",
       "      <td>0.091513</td>\n",
       "      <td>0.761785</td>\n",
       "      <td>0.021018</td>\n",
       "      <td>0.497069</td>\n",
       "      <td>0.651833</td>\n",
       "      <td>2</td>\n",
       "    </tr>\n",
       "    <tr>\n",
       "      <th>1</th>\n",
       "      <td>0.036710</td>\n",
       "      <td>1.162364</td>\n",
       "      <td>0.306220</td>\n",
       "      <td>2.057626</td>\n",
       "      <td>0.178215</td>\n",
       "      <td>0.004166</td>\n",
       "      <td>0.418245</td>\n",
       "      <td>0.032669</td>\n",
       "      <td>0.616907</td>\n",
       "      <td>0.184875</td>\n",
       "      <td>...</td>\n",
       "      <td>0.293708</td>\n",
       "      <td>0.000000</td>\n",
       "      <td>1.341466</td>\n",
       "      <td>0.084182</td>\n",
       "      <td>0.009431</td>\n",
       "      <td>0.078457</td>\n",
       "      <td>0.427631</td>\n",
       "      <td>0.401455</td>\n",
       "      <td>0.059122</td>\n",
       "      <td>2</td>\n",
       "    </tr>\n",
       "    <tr>\n",
       "      <th>2</th>\n",
       "      <td>0.652957</td>\n",
       "      <td>0.981740</td>\n",
       "      <td>3.545043</td>\n",
       "      <td>0.204184</td>\n",
       "      <td>1.654799</td>\n",
       "      <td>0.000000</td>\n",
       "      <td>0.192026</td>\n",
       "      <td>0.052484</td>\n",
       "      <td>3.965159</td>\n",
       "      <td>0.283542</td>\n",
       "      <td>...</td>\n",
       "      <td>0.046583</td>\n",
       "      <td>0.000000</td>\n",
       "      <td>1.242455</td>\n",
       "      <td>0.682789</td>\n",
       "      <td>2.694038</td>\n",
       "      <td>0.355010</td>\n",
       "      <td>0.266838</td>\n",
       "      <td>0.000000</td>\n",
       "      <td>0.031524</td>\n",
       "      <td>2</td>\n",
       "    </tr>\n",
       "    <tr>\n",
       "      <th>3</th>\n",
       "      <td>0.000000</td>\n",
       "      <td>0.125300</td>\n",
       "      <td>0.359766</td>\n",
       "      <td>0.495549</td>\n",
       "      <td>0.193161</td>\n",
       "      <td>0.004342</td>\n",
       "      <td>0.537551</td>\n",
       "      <td>0.110779</td>\n",
       "      <td>0.913090</td>\n",
       "      <td>1.682503</td>\n",
       "      <td>...</td>\n",
       "      <td>0.238403</td>\n",
       "      <td>0.046362</td>\n",
       "      <td>0.988084</td>\n",
       "      <td>0.412065</td>\n",
       "      <td>0.046384</td>\n",
       "      <td>0.884869</td>\n",
       "      <td>0.007294</td>\n",
       "      <td>0.970891</td>\n",
       "      <td>0.072586</td>\n",
       "      <td>1</td>\n",
       "    </tr>\n",
       "    <tr>\n",
       "      <th>4</th>\n",
       "      <td>0.066916</td>\n",
       "      <td>0.402810</td>\n",
       "      <td>0.377425</td>\n",
       "      <td>0.022838</td>\n",
       "      <td>0.020259</td>\n",
       "      <td>0.184069</td>\n",
       "      <td>0.024513</td>\n",
       "      <td>0.412781</td>\n",
       "      <td>4.945152</td>\n",
       "      <td>0.332384</td>\n",
       "      <td>...</td>\n",
       "      <td>0.191347</td>\n",
       "      <td>0.129359</td>\n",
       "      <td>1.783438</td>\n",
       "      <td>0.626252</td>\n",
       "      <td>0.061745</td>\n",
       "      <td>0.324317</td>\n",
       "      <td>1.037723</td>\n",
       "      <td>0.002276</td>\n",
       "      <td>0.164416</td>\n",
       "      <td>3</td>\n",
       "    </tr>\n",
       "  </tbody>\n",
       "</table>\n",
       "<p>5 rows × 513 columns</p>\n",
       "</div>"
      ],
      "text/plain": [
       "          0         1         2         3         4         5         6  \\\n",
       "0  0.116135  0.788059  2.428497  1.056603  0.820298  0.141416  0.585964   \n",
       "1  0.036710  1.162364  0.306220  2.057626  0.178215  0.004166  0.418245   \n",
       "2  0.652957  0.981740  3.545043  0.204184  1.654799  0.000000  0.192026   \n",
       "3  0.000000  0.125300  0.359766  0.495549  0.193161  0.004342  0.537551   \n",
       "4  0.066916  0.402810  0.377425  0.022838  0.020259  0.184069  0.024513   \n",
       "\n",
       "          7         8         9  ...       503       504       505       506  \\\n",
       "0  0.087065  2.002062  1.639428  ...  0.113385  0.108759  1.317424  0.147004   \n",
       "1  0.032669  0.616907  0.184875  ...  0.293708  0.000000  1.341466  0.084182   \n",
       "2  0.052484  3.965159  0.283542  ...  0.046583  0.000000  1.242455  0.682789   \n",
       "3  0.110779  0.913090  1.682503  ...  0.238403  0.046362  0.988084  0.412065   \n",
       "4  0.412781  4.945152  0.332384  ...  0.191347  0.129359  1.783438  0.626252   \n",
       "\n",
       "        507       508       509       510       511  target  \n",
       "0  0.091513  0.761785  0.021018  0.497069  0.651833       2  \n",
       "1  0.009431  0.078457  0.427631  0.401455  0.059122       2  \n",
       "2  2.694038  0.355010  0.266838  0.000000  0.031524       2  \n",
       "3  0.046384  0.884869  0.007294  0.970891  0.072586       1  \n",
       "4  0.061745  0.324317  1.037723  0.002276  0.164416       3  \n",
       "\n",
       "[5 rows x 513 columns]"
      ]
     },
     "execution_count": 10,
     "metadata": {},
     "output_type": "execute_result"
    }
   ],
   "source": [
    "df_umd = pd.DataFrame(umd_features)\n",
    "df_umd[\"target\"] = umd_y\n",
    "\n",
    "print(df_umd.shape)\n",
    "df_umd.head()"
   ]
  },
  {
   "cell_type": "code",
   "execution_count": 11,
   "metadata": {
    "ExecuteTime": {
     "end_time": "2020-09-12T19:26:08.195239Z",
     "start_time": "2020-09-12T19:26:08.190794Z"
    }
   },
   "outputs": [],
   "source": [
    "df_umd_1 = df_umd[df_umd.target == 1]\n",
    "df_umd_2 = df_umd[df_umd.target == 2]\n",
    "df_umd_3 = df_umd[df_umd.target == 3]"
   ]
  },
  {
   "cell_type": "code",
   "execution_count": 12,
   "metadata": {
    "ExecuteTime": {
     "end_time": "2020-09-12T19:26:08.208408Z",
     "start_time": "2020-09-12T19:26:08.196188Z"
    },
    "scrolled": true
   },
   "outputs": [
    {
     "name": "stdout",
     "output_type": "stream",
     "text": [
      "train shape is (400, 513), test shape is (600, 513)\n"
     ]
    }
   ],
   "source": [
    "train = pd.concat([df_umd_1[:200], df_umd_2[:200]], axis=0)\n",
    "test = pd.concat([df_umd_1[200:], df_umd_2[200:], df_umd_3[:200]], axis=0)\n",
    "\n",
    "train = train.sample(frac=1).reset_index(drop=True)\n",
    "test = test.sample(frac=1).reset_index(drop=True)\n",
    "\n",
    "print(f\"train shape is {train.shape}, test shape is {test.shape}\")"
   ]
  },
  {
   "cell_type": "code",
   "execution_count": 13,
   "metadata": {
    "ExecuteTime": {
     "end_time": "2020-09-12T19:26:08.214565Z",
     "start_time": "2020-09-12T19:26:08.209407Z"
    }
   },
   "outputs": [],
   "source": [
    "df_umd_12 = df_umd[df_umd.target == 12].reset_index(drop=True) # merged class 1&2 image\n",
    "\n",
    "# train.to_csv(\"../features/train_features.csv\", index=False)\n",
    "# test.to_csv(\"../features/test_features.csv\", index=False)\n",
    "# df_umd_12.to_csv(\"../features/cutmix_seq_features.csv\", index=False)"
   ]
  },
  {
   "cell_type": "code",
   "execution_count": 14,
   "metadata": {
    "ExecuteTime": {
     "end_time": "2020-09-12T19:26:08.687766Z",
     "start_time": "2020-09-12T19:26:08.215486Z"
    }
   },
   "outputs": [
    {
     "name": "stderr",
     "output_type": "stream",
     "text": [
      "100%|██████████| 1/1 [00:00<00:00,  3.85it/s]"
     ]
    },
    {
     "name": "stdout",
     "output_type": "stream",
     "text": [
      "(11, 513)\n"
     ]
    },
    {
     "name": "stderr",
     "output_type": "stream",
     "text": [
      "\n"
     ]
    }
   ],
   "source": [
    "# ### below is to generate transition sequences\n",
    "\n",
    "# cutmix_seq_dataset = UmdDataset(df=df[120:].reset_index(), imfolder=training_data_path, transforms=df_transform)\n",
    "# cutmix_seq_loader = DataLoader(dataset=cutmix_seq_dataset, batch_size=1, num_workers=1, shuffle=False)\n",
    "\n",
    "# umd_features = []\n",
    "# umd_y = []\n",
    "\n",
    "# model = models.resnet18(pretrained=True)\n",
    "# feature_extractor = torch.nn.Sequential(*list(model.children())[:-1])\n",
    "# feature_extractor.eval()\n",
    "\n",
    "# for epoch in tqdm(range(1)):\n",
    "    \n",
    "#     for images, labels in cutmix_seq_loader:  \n",
    "\n",
    "# #         features = model.extract_features(images)\n",
    "# #         features = nn.AdaptiveAvgPool2d(1)(features).squeeze(0).squeeze(1).squeeze(1).cpu().detach().numpy()\n",
    "#         features = feature_extractor(images)\n",
    "#         features = nn.AdaptiveAvgPool2d(1)(features).squeeze(0).squeeze(1).squeeze(1).cpu().detach().numpy()\n",
    "# #         features = features.reshape([-1])\n",
    "#         umd_features.append(features)\n",
    "# #         umd_features.append(features.cpu().detach().numpy())\n",
    "#         umd_y.append(labels.detach().numpy())\n",
    "\n",
    "# umd_features = np.array(umd_features)\n",
    "# umd_y = np. array(umd_y)\n",
    "\n",
    "# df_umd_12 = pd.DataFrame(umd_features)\n",
    "# df_umd_12[\"target\"] = umd_y\n",
    "\n",
    "# print(df_umd_12.shape)\n",
    "# df_umd_12.head()\n",
    "# # df_umd_12.to_csv(\"../features/cutmix_seq_features.csv\", index=False)"
   ]
  },
  {
   "cell_type": "code",
   "execution_count": null,
   "metadata": {},
   "outputs": [],
   "source": []
  },
  {
   "cell_type": "code",
   "execution_count": null,
   "metadata": {},
   "outputs": [],
   "source": []
  },
  {
   "cell_type": "code",
   "execution_count": null,
   "metadata": {},
   "outputs": [],
   "source": []
  },
  {
   "cell_type": "code",
   "execution_count": null,
   "metadata": {},
   "outputs": [],
   "source": []
  },
  {
   "cell_type": "code",
   "execution_count": null,
   "metadata": {},
   "outputs": [],
   "source": []
  },
  {
   "cell_type": "code",
   "execution_count": null,
   "metadata": {},
   "outputs": [],
   "source": []
  },
  {
   "cell_type": "code",
   "execution_count": null,
   "metadata": {},
   "outputs": [],
   "source": []
  }
 ],
 "metadata": {
  "kernelspec": {
   "display_name": "Python 3",
   "language": "python",
   "name": "python3"
  },
  "language_info": {
   "codemirror_mode": {
    "name": "ipython",
    "version": 3
   },
   "file_extension": ".py",
   "mimetype": "text/x-python",
   "name": "python",
   "nbconvert_exporter": "python",
   "pygments_lexer": "ipython3",
   "version": "3.7.5"
  },
  "toc": {
   "base_numbering": 1,
   "nav_menu": {},
   "number_sections": true,
   "sideBar": true,
   "skip_h1_title": false,
   "title_cell": "Table of Contents",
   "title_sidebar": "Contents",
   "toc_cell": false,
   "toc_position": {},
   "toc_section_display": true,
   "toc_window_display": false
  }
 },
 "nbformat": 4,
 "nbformat_minor": 2
}
