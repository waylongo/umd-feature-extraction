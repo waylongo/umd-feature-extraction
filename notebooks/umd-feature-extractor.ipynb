{
 "cells": [
  {
   "cell_type": "code",
   "execution_count": 1,
   "metadata": {
    "ExecuteTime": {
     "end_time": "2020-09-10T01:29:19.810293Z",
     "start_time": "2020-09-10T01:29:19.020863Z"
    }
   },
   "outputs": [],
   "source": [
    "import os\n",
    "import cv2\n",
    "import random\n",
    "import numpy as np\n",
    "import pandas as pd\n",
    "import matplotlib.pyplot as plt\n",
    "from tqdm import tqdm\n",
    "\n",
    "import torch\n",
    "from torch.utils.data import Dataset, DataLoader, Subset\n",
    "import torchvision.models as models\n",
    "import albumentations as A\n",
    "from albumentations.pytorch import ToTensor\n",
    "\n",
    "import torch.nn.functional as F\n",
    "import torch.nn as nn\n",
    "from efficientnet_pytorch import EfficientNet"
   ]
  },
  {
   "cell_type": "code",
   "execution_count": 2,
   "metadata": {
    "ExecuteTime": {
     "end_time": "2020-09-10T01:29:19.814454Z",
     "start_time": "2020-09-10T01:29:19.811273Z"
    }
   },
   "outputs": [],
   "source": [
    "# reproduce\n",
    "def seed_everything(seed):\n",
    "    random.seed(seed)\n",
    "    os.environ['PYTHONHASHSEED'] = str(seed)\n",
    "    np.random.seed(seed)\n",
    "    torch.manual_seed(seed)\n",
    "    torch.cuda.manual_seed(seed)\n",
    "    torch.backends.cudnn.deterministic = True\n",
    "seed_everything(42)"
   ]
  },
  {
   "cell_type": "code",
   "execution_count": 3,
   "metadata": {
    "ExecuteTime": {
     "end_time": "2020-09-10T01:29:19.831766Z",
     "start_time": "2020-09-10T01:29:19.815427Z"
    }
   },
   "outputs": [
    {
     "name": "stdout",
     "output_type": "stream",
     "text": [
      "df shape is (160, 2)\n"
     ]
    },
    {
     "data": {
      "text/html": [
       "<div>\n",
       "<style scoped>\n",
       "    .dataframe tbody tr th:only-of-type {\n",
       "        vertical-align: middle;\n",
       "    }\n",
       "\n",
       "    .dataframe tbody tr th {\n",
       "        vertical-align: top;\n",
       "    }\n",
       "\n",
       "    .dataframe thead th {\n",
       "        text-align: right;\n",
       "    }\n",
       "</style>\n",
       "<table border=\"1\" class=\"dataframe\">\n",
       "  <thead>\n",
       "    <tr style=\"text-align: right;\">\n",
       "      <th></th>\n",
       "      <th>img_name</th>\n",
       "      <th>target</th>\n",
       "    </tr>\n",
       "  </thead>\n",
       "  <tbody>\n",
       "    <tr>\n",
       "      <th>0</th>\n",
       "      <td>RT3_1</td>\n",
       "      <td>1</td>\n",
       "    </tr>\n",
       "    <tr>\n",
       "      <th>1</th>\n",
       "      <td>RT3_2</td>\n",
       "      <td>1</td>\n",
       "    </tr>\n",
       "    <tr>\n",
       "      <th>2</th>\n",
       "      <td>RT3_3</td>\n",
       "      <td>1</td>\n",
       "    </tr>\n",
       "    <tr>\n",
       "      <th>3</th>\n",
       "      <td>RT3_4</td>\n",
       "      <td>1</td>\n",
       "    </tr>\n",
       "    <tr>\n",
       "      <th>4</th>\n",
       "      <td>RT3_5</td>\n",
       "      <td>1</td>\n",
       "    </tr>\n",
       "  </tbody>\n",
       "</table>\n",
       "</div>"
      ],
      "text/plain": [
       "  img_name  target\n",
       "0    RT3_1       1\n",
       "1    RT3_2       1\n",
       "2    RT3_3       1\n",
       "3    RT3_4       1\n",
       "4    RT3_5       1"
      ]
     },
     "execution_count": 3,
     "metadata": {},
     "output_type": "execute_result"
    }
   ],
   "source": [
    "df = pd.read_csv(\"../input/train.csv\")\n",
    "print(f\"df shape is {df.shape}\")\n",
    "df.head()"
   ]
  },
  {
   "cell_type": "code",
   "execution_count": 4,
   "metadata": {
    "ExecuteTime": {
     "end_time": "2020-09-10T01:29:19.837744Z",
     "start_time": "2020-09-10T01:29:19.832754Z"
    }
   },
   "outputs": [],
   "source": [
    "IMAGE_SIZE = 224\n",
    "class UmdDataset(Dataset):\n",
    "    def __init__(self, df: pd.DataFrame, imfolder: str, transforms=None):\n",
    "        self.df = df\n",
    "        self.imfolder = imfolder\n",
    "        self.transforms = transforms\n",
    "\n",
    "    def __len__(self):\n",
    "        return len(self.df)\n",
    "\n",
    "    def __getitem__(self, index):\n",
    "        im_path = os.path.join(self.imfolder, self.df.iloc[index]['img_name'] + '.png')\n",
    "        x = cv2.imread(im_path, 0)\n",
    "        x = cv2.cvtColor(x, cv2.COLOR_GRAY2RGB)\n",
    "        \n",
    "        if self.transforms:\n",
    "            augmented = self.transforms(image=x)\n",
    "            x = augmented['image']\n",
    "            \n",
    "        y = self.df.loc[index]['target']\n",
    "        return x, y\n",
    "    \n",
    "df_transform = A.Compose([\n",
    "    A.RandomCrop(IMAGE_SIZE, IMAGE_SIZE, p=1),\n",
    "    A.Normalize(),\n",
    "    ToTensor(),\n",
    "])"
   ]
  },
  {
   "cell_type": "code",
   "execution_count": 5,
   "metadata": {
    "ExecuteTime": {
     "end_time": "2020-09-10T01:29:19.850248Z",
     "start_time": "2020-09-10T01:29:19.838636Z"
    }
   },
   "outputs": [],
   "source": [
    "training_data_path = \"../input/\"\n",
    "umd_dataset = UmdDataset(df=df, imfolder=training_data_path, transforms=df_transform)\n",
    "train_loader = DataLoader(dataset=umd_dataset, batch_size=1, num_workers=16, shuffle=True)"
   ]
  },
  {
   "cell_type": "code",
   "execution_count": 6,
   "metadata": {
    "ExecuteTime": {
     "end_time": "2020-09-10T01:29:19.859895Z",
     "start_time": "2020-09-10T01:29:19.851285Z"
    }
   },
   "outputs": [],
   "source": [
    "# # visualize images\n",
    "# for images, labels in train_loader:  \n",
    "#     img = images.squeeze(0).permute((1, 2,0))\n",
    "#     plt.imshow(img)\n",
    "#     plt.show()"
   ]
  },
  {
   "cell_type": "code",
   "execution_count": 7,
   "metadata": {
    "ExecuteTime": {
     "end_time": "2020-09-10T01:29:19.869612Z",
     "start_time": "2020-09-10T01:29:19.860737Z"
    }
   },
   "outputs": [],
   "source": [
    "# # alexnet\n",
    "# umd_features = []\n",
    "# umd_y = []\n",
    "\n",
    "# model = models.alexnet(pretrained=True)\n",
    "\n",
    "# for epoch in tqdm(range(10)):\n",
    "    \n",
    "#     for images, labels in train_loader:  \n",
    "\n",
    "# #         features = model.extract_features(images)\n",
    "# #         features = nn.AdaptiveAvgPool2d(1)(features).squeeze(0).squeeze(1).squeeze(1).cpu().detach().numpy()\n",
    "#         features = model.features(images)\n",
    "#         features = nn.AdaptiveAvgPool2d(1)(features).squeeze(0).cpu().detach().numpy()\n",
    "#         features = features.reshape([-1])\n",
    "#         umd_features.append(features)\n",
    "# #         umd_features.append(features.cpu().detach().numpy())\n",
    "#         umd_y.append(labels.detach().numpy())\n",
    "\n",
    "# umd_features = np.array(umd_features)\n",
    "# umd_y = np. array(umd_y)"
   ]
  },
  {
   "cell_type": "code",
   "execution_count": 8,
   "metadata": {
    "ExecuteTime": {
     "end_time": "2020-09-10T01:29:53.832886Z",
     "start_time": "2020-09-10T01:29:19.870842Z"
    }
   },
   "outputs": [
    {
     "name": "stderr",
     "output_type": "stream",
     "text": [
      "100%|██████████| 10/10 [00:33<00:00,  3.36s/it]\n"
     ]
    }
   ],
   "source": [
    "umd_features = []\n",
    "umd_y = []\n",
    "\n",
    "model = models.resnet18(pretrained=True)\n",
    "feature_extractor = torch.nn.Sequential(*list(model.children())[:-1])\n",
    "feature_extractor.eval()\n",
    "\n",
    "for epoch in tqdm(range(10)):\n",
    "    \n",
    "    for images, labels in train_loader:  \n",
    "\n",
    "#         features = model.extract_features(images)\n",
    "#         features = nn.AdaptiveAvgPool2d(1)(features).squeeze(0).squeeze(1).squeeze(1).cpu().detach().numpy()\n",
    "        features = feature_extractor(images)\n",
    "        features = nn.AdaptiveAvgPool2d(1)(features).squeeze(0).squeeze(1).squeeze(1).cpu().detach().numpy()\n",
    "#         features = features.reshape([-1])\n",
    "        umd_features.append(features)\n",
    "#         umd_features.append(features.cpu().detach().numpy())\n",
    "        umd_y.append(labels.detach().numpy())\n",
    "\n",
    "umd_features = np.array(umd_features)\n",
    "umd_y = np. array(umd_y)"
   ]
  },
  {
   "cell_type": "code",
   "execution_count": 9,
   "metadata": {
    "ExecuteTime": {
     "end_time": "2020-09-10T01:29:53.836854Z",
     "start_time": "2020-09-10T01:29:53.834457Z"
    }
   },
   "outputs": [
    {
     "name": "stdout",
     "output_type": "stream",
     "text": [
      "image feature shape is (1600, 512)\n",
      "image label shape is (1600, 1)\n"
     ]
    }
   ],
   "source": [
    "print(f\"image feature shape is {umd_features.shape}\")\n",
    "print(f\"image label shape is {umd_y.shape}\")"
   ]
  },
  {
   "cell_type": "code",
   "execution_count": 10,
   "metadata": {
    "ExecuteTime": {
     "end_time": "2020-09-10T01:29:53.862816Z",
     "start_time": "2020-09-10T01:29:53.837765Z"
    }
   },
   "outputs": [
    {
     "name": "stdout",
     "output_type": "stream",
     "text": [
      "(1600, 513)\n"
     ]
    },
    {
     "data": {
      "text/html": [
       "<div>\n",
       "<style scoped>\n",
       "    .dataframe tbody tr th:only-of-type {\n",
       "        vertical-align: middle;\n",
       "    }\n",
       "\n",
       "    .dataframe tbody tr th {\n",
       "        vertical-align: top;\n",
       "    }\n",
       "\n",
       "    .dataframe thead th {\n",
       "        text-align: right;\n",
       "    }\n",
       "</style>\n",
       "<table border=\"1\" class=\"dataframe\">\n",
       "  <thead>\n",
       "    <tr style=\"text-align: right;\">\n",
       "      <th></th>\n",
       "      <th>0</th>\n",
       "      <th>1</th>\n",
       "      <th>2</th>\n",
       "      <th>3</th>\n",
       "      <th>4</th>\n",
       "      <th>5</th>\n",
       "      <th>6</th>\n",
       "      <th>7</th>\n",
       "      <th>8</th>\n",
       "      <th>9</th>\n",
       "      <th>...</th>\n",
       "      <th>503</th>\n",
       "      <th>504</th>\n",
       "      <th>505</th>\n",
       "      <th>506</th>\n",
       "      <th>507</th>\n",
       "      <th>508</th>\n",
       "      <th>509</th>\n",
       "      <th>510</th>\n",
       "      <th>511</th>\n",
       "      <th>target</th>\n",
       "    </tr>\n",
       "  </thead>\n",
       "  <tbody>\n",
       "    <tr>\n",
       "      <th>0</th>\n",
       "      <td>1.852463</td>\n",
       "      <td>1.427170</td>\n",
       "      <td>3.690488</td>\n",
       "      <td>0.438352</td>\n",
       "      <td>2.316507</td>\n",
       "      <td>0.000000</td>\n",
       "      <td>0.240232</td>\n",
       "      <td>0.074002</td>\n",
       "      <td>4.813165</td>\n",
       "      <td>0.286297</td>\n",
       "      <td>...</td>\n",
       "      <td>1.502527</td>\n",
       "      <td>0.011416</td>\n",
       "      <td>1.727503</td>\n",
       "      <td>0.042662</td>\n",
       "      <td>2.811683</td>\n",
       "      <td>0.212586</td>\n",
       "      <td>0.903000</td>\n",
       "      <td>0.004605</td>\n",
       "      <td>0.000000</td>\n",
       "      <td>2</td>\n",
       "    </tr>\n",
       "    <tr>\n",
       "      <th>1</th>\n",
       "      <td>0.040199</td>\n",
       "      <td>0.191156</td>\n",
       "      <td>0.083933</td>\n",
       "      <td>0.492226</td>\n",
       "      <td>0.110319</td>\n",
       "      <td>0.112916</td>\n",
       "      <td>0.614150</td>\n",
       "      <td>0.309155</td>\n",
       "      <td>2.855123</td>\n",
       "      <td>0.000000</td>\n",
       "      <td>...</td>\n",
       "      <td>0.108537</td>\n",
       "      <td>0.000000</td>\n",
       "      <td>3.950866</td>\n",
       "      <td>2.096619</td>\n",
       "      <td>0.126770</td>\n",
       "      <td>0.015501</td>\n",
       "      <td>1.008542</td>\n",
       "      <td>0.363737</td>\n",
       "      <td>0.020453</td>\n",
       "      <td>3</td>\n",
       "    </tr>\n",
       "    <tr>\n",
       "      <th>2</th>\n",
       "      <td>0.307319</td>\n",
       "      <td>0.881700</td>\n",
       "      <td>1.862720</td>\n",
       "      <td>0.012181</td>\n",
       "      <td>0.270546</td>\n",
       "      <td>0.001163</td>\n",
       "      <td>0.012460</td>\n",
       "      <td>0.359653</td>\n",
       "      <td>4.932673</td>\n",
       "      <td>0.468637</td>\n",
       "      <td>...</td>\n",
       "      <td>0.178925</td>\n",
       "      <td>0.060749</td>\n",
       "      <td>1.050058</td>\n",
       "      <td>1.036049</td>\n",
       "      <td>0.031714</td>\n",
       "      <td>0.426136</td>\n",
       "      <td>1.348130</td>\n",
       "      <td>0.000363</td>\n",
       "      <td>0.205434</td>\n",
       "      <td>3</td>\n",
       "    </tr>\n",
       "    <tr>\n",
       "      <th>3</th>\n",
       "      <td>0.323085</td>\n",
       "      <td>0.101360</td>\n",
       "      <td>0.306357</td>\n",
       "      <td>0.756577</td>\n",
       "      <td>0.000000</td>\n",
       "      <td>0.021451</td>\n",
       "      <td>0.000000</td>\n",
       "      <td>0.545721</td>\n",
       "      <td>3.178084</td>\n",
       "      <td>0.366844</td>\n",
       "      <td>...</td>\n",
       "      <td>0.182106</td>\n",
       "      <td>0.002339</td>\n",
       "      <td>0.504327</td>\n",
       "      <td>0.499391</td>\n",
       "      <td>1.048448</td>\n",
       "      <td>0.031410</td>\n",
       "      <td>0.851934</td>\n",
       "      <td>0.118453</td>\n",
       "      <td>0.000000</td>\n",
       "      <td>3</td>\n",
       "    </tr>\n",
       "    <tr>\n",
       "      <th>4</th>\n",
       "      <td>0.184685</td>\n",
       "      <td>0.411287</td>\n",
       "      <td>4.593755</td>\n",
       "      <td>0.988969</td>\n",
       "      <td>3.391530</td>\n",
       "      <td>0.001681</td>\n",
       "      <td>0.354382</td>\n",
       "      <td>0.084353</td>\n",
       "      <td>5.852554</td>\n",
       "      <td>1.916361</td>\n",
       "      <td>...</td>\n",
       "      <td>0.005103</td>\n",
       "      <td>0.128949</td>\n",
       "      <td>1.671188</td>\n",
       "      <td>0.469654</td>\n",
       "      <td>0.493812</td>\n",
       "      <td>0.844183</td>\n",
       "      <td>0.945601</td>\n",
       "      <td>0.000000</td>\n",
       "      <td>0.095774</td>\n",
       "      <td>2</td>\n",
       "    </tr>\n",
       "  </tbody>\n",
       "</table>\n",
       "<p>5 rows × 513 columns</p>\n",
       "</div>"
      ],
      "text/plain": [
       "          0         1         2         3         4         5         6  \\\n",
       "0  1.852463  1.427170  3.690488  0.438352  2.316507  0.000000  0.240232   \n",
       "1  0.040199  0.191156  0.083933  0.492226  0.110319  0.112916  0.614150   \n",
       "2  0.307319  0.881700  1.862720  0.012181  0.270546  0.001163  0.012460   \n",
       "3  0.323085  0.101360  0.306357  0.756577  0.000000  0.021451  0.000000   \n",
       "4  0.184685  0.411287  4.593755  0.988969  3.391530  0.001681  0.354382   \n",
       "\n",
       "          7         8         9  ...       503       504       505       506  \\\n",
       "0  0.074002  4.813165  0.286297  ...  1.502527  0.011416  1.727503  0.042662   \n",
       "1  0.309155  2.855123  0.000000  ...  0.108537  0.000000  3.950866  2.096619   \n",
       "2  0.359653  4.932673  0.468637  ...  0.178925  0.060749  1.050058  1.036049   \n",
       "3  0.545721  3.178084  0.366844  ...  0.182106  0.002339  0.504327  0.499391   \n",
       "4  0.084353  5.852554  1.916361  ...  0.005103  0.128949  1.671188  0.469654   \n",
       "\n",
       "        507       508       509       510       511  target  \n",
       "0  2.811683  0.212586  0.903000  0.004605  0.000000       2  \n",
       "1  0.126770  0.015501  1.008542  0.363737  0.020453       3  \n",
       "2  0.031714  0.426136  1.348130  0.000363  0.205434       3  \n",
       "3  1.048448  0.031410  0.851934  0.118453  0.000000       3  \n",
       "4  0.493812  0.844183  0.945601  0.000000  0.095774       2  \n",
       "\n",
       "[5 rows x 513 columns]"
      ]
     },
     "execution_count": 10,
     "metadata": {},
     "output_type": "execute_result"
    }
   ],
   "source": [
    "df_umd = pd.DataFrame(umd_features)\n",
    "df_umd[\"target\"] = umd_y\n",
    "\n",
    "print(df_umd.shape)\n",
    "df_umd.head()"
   ]
  },
  {
   "cell_type": "code",
   "execution_count": 11,
   "metadata": {
    "ExecuteTime": {
     "end_time": "2020-09-10T01:29:53.868300Z",
     "start_time": "2020-09-10T01:29:53.863773Z"
    }
   },
   "outputs": [],
   "source": [
    "df_umd_1 = df_umd[df_umd.target == 1]\n",
    "df_umd_2 = df_umd[df_umd.target == 2]\n",
    "df_umd_3 = df_umd[df_umd.target == 3]"
   ]
  },
  {
   "cell_type": "code",
   "execution_count": 12,
   "metadata": {
    "ExecuteTime": {
     "end_time": "2020-09-10T01:29:53.881593Z",
     "start_time": "2020-09-10T01:29:53.869203Z"
    },
    "scrolled": true
   },
   "outputs": [
    {
     "name": "stdout",
     "output_type": "stream",
     "text": [
      "train shape is (400, 513), test shape is (600, 513)\n"
     ]
    }
   ],
   "source": [
    "train = pd.concat([df_umd_1[:200], df_umd_2[:200]], axis=0)\n",
    "test = pd.concat([df_umd_1[200:], df_umd_2[200:], df_umd_3[:200]], axis=0)\n",
    "\n",
    "train = train.sample(frac=1).reset_index(drop=True)\n",
    "test = test.sample(frac=1).reset_index(drop=True)\n",
    "\n",
    "print(f\"train shape is {train.shape}, test shape is {test.shape}\")"
   ]
  },
  {
   "cell_type": "code",
   "execution_count": 13,
   "metadata": {
    "ExecuteTime": {
     "end_time": "2020-09-10T01:29:53.888163Z",
     "start_time": "2020-09-10T01:29:53.882548Z"
    }
   },
   "outputs": [],
   "source": [
    "df_umd_12 = df_umd[df_umd.target == 12].reset_index(drop=True) # merged class 1&2 image\n",
    "\n",
    "# train.to_csv(\"../features/train_features.csv\", index=False)\n",
    "# test.to_csv(\"../features/test_features.csv\", index=False)\n",
    "# df_umd_12.to_csv(\"../features/blend38_features.csv\", index=False)"
   ]
  },
  {
   "cell_type": "code",
   "execution_count": null,
   "metadata": {},
   "outputs": [],
   "source": []
  },
  {
   "cell_type": "code",
   "execution_count": null,
   "metadata": {},
   "outputs": [],
   "source": []
  },
  {
   "cell_type": "code",
   "execution_count": null,
   "metadata": {},
   "outputs": [],
   "source": []
  },
  {
   "cell_type": "code",
   "execution_count": null,
   "metadata": {},
   "outputs": [],
   "source": []
  }
 ],
 "metadata": {
  "kernelspec": {
   "display_name": "Python 3",
   "language": "python",
   "name": "python3"
  },
  "language_info": {
   "codemirror_mode": {
    "name": "ipython",
    "version": 3
   },
   "file_extension": ".py",
   "mimetype": "text/x-python",
   "name": "python",
   "nbconvert_exporter": "python",
   "pygments_lexer": "ipython3",
   "version": "3.7.5"
  },
  "toc": {
   "base_numbering": 1,
   "nav_menu": {},
   "number_sections": true,
   "sideBar": true,
   "skip_h1_title": false,
   "title_cell": "Table of Contents",
   "title_sidebar": "Contents",
   "toc_cell": false,
   "toc_position": {},
   "toc_section_display": true,
   "toc_window_display": false
  }
 },
 "nbformat": 4,
 "nbformat_minor": 2
}
